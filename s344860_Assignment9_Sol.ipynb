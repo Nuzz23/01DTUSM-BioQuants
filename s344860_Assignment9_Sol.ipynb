{
 "cells": [
  {
   "cell_type": "markdown",
   "metadata": {},
   "source": [
    "# 1 - MODULES AND CONSTANTS"
   ]
  },
  {
   "cell_type": "markdown",
   "metadata": {},
   "source": [
    "### MODULES AND LIBRARIES"
   ]
  },
  {
   "cell_type": "code",
   "execution_count": 12,
   "metadata": {},
   "outputs": [],
   "source": [
    "import sys"
   ]
  },
  {
   "cell_type": "markdown",
   "metadata": {},
   "source": [
    "### CONSTANTS"
   ]
  },
  {
   "cell_type": "code",
   "execution_count": 13,
   "metadata": {},
   "outputs": [],
   "source": [
    "REFERENCE_SEQUENCE_INPUT_PATH = 'referenceSequence.txt'\n",
    "QUERY_DATA_INPUT_PATH =  'queryData.txt'"
   ]
  },
  {
   "cell_type": "markdown",
   "metadata": {},
   "source": [
    "# 2 - LOAD DATA"
   ]
  },
  {
   "cell_type": "markdown",
   "metadata": {},
   "source": [
    "### Function: readSequence\n",
    "reads the given sequence to be evaluated and returns it in a string format <br> \n",
    "will raise value error if the sequence contain characters different from A,C,G,T,-,X"
   ]
  },
  {
   "cell_type": "code",
   "execution_count": 14,
   "metadata": {},
   "outputs": [],
   "source": [
    "def readSequence(path:str=REFERENCE_SEQUENCE_INPUT_PATH)->str:\n",
    "    \"\"\"reads the reference sequence\n",
    "\n",
    "    Args:\n",
    "        path (str, optional): the path to the txt file to be read. Defaults to REFERENCE_SEQUENCE_INPUT_PATH.\n",
    "\n",
    "    Raises:\n",
    "        ValueError: if the sequence contains characters difference from A, C, G, T, -, X\n",
    "\n",
    "    Returns:\n",
    "        sequence (str): the sequence read \n",
    "    \"\"\"\n",
    "    \n",
    "    with open(path, 'r', encoding='UTF-8') as fp:\n",
    "        seq =  ''.join(list(map(lambda line:line.strip().upper(), fp)))\n",
    "        \n",
    "    if set(seq).difference({'A', 'C', 'G', 'T', '-', 'X'}).__len__() == 0:\n",
    "        return seq\n",
    "    \n",
    "    raise ValueError('Input format not correct')"
   ]
  },
  {
   "cell_type": "markdown",
   "metadata": {},
   "source": [
    "### Function: readQueryData \n",
    "reads the given query sequences and returns it as a list of string\n",
    "<br> \n",
    "will raise value error if any of the sequence contain characters different from A,C,G,T,-,X"
   ]
  },
  {
   "cell_type": "code",
   "execution_count": 15,
   "metadata": {},
   "outputs": [],
   "source": [
    "def readQueryData(path:str=QUERY_DATA_INPUT_PATH)->list[str]:\n",
    "    \"\"\"reads the query data to be aligned\n",
    "\n",
    "    Args:\n",
    "        path (str, optional): The path to the file containing the data to be aligned. Defaults to QUERY_DATA_INPUT_PATH.\n",
    "\n",
    "    Raises:\n",
    "        ValueError: if any of the sequence contains characters difference from A, C, G, T, -, X\n",
    "\n",
    "    Returns:\n",
    "        sequences (list[str]): the list of sequences to be matched \n",
    "    \"\"\"\n",
    "    \n",
    "    with open(path, 'r', encoding='UTF-8') as fp:\n",
    "        seq =  list(map(lambda line:line.strip().upper(), fp))\n",
    "    \n",
    "    for item in seq:\n",
    "        if set(item).difference({'A', 'C', 'G', 'T', '-', 'X'}).__len__() != 0:\n",
    "            raise ValueError('Input format not correct')\n",
    "\n",
    "    return seq"
   ]
  },
  {
   "cell_type": "markdown",
   "metadata": {},
   "source": [
    "# 3 - SCORE ALIGNMENT"
   ]
  },
  {
   "cell_type": "markdown",
   "metadata": {},
   "source": [
    "### Function: score_alignment \n",
    "takes in two strings and returns the alignment score of the two strings. <br>\n",
    "The alignment score is calculated by summing the number of matching characters and subtracting the number of\n",
    "mismatching characters. <br>\n",
    "For example, the alignment of \"ACGGT\" and \"ACGGC\" would have a score of 4 (5 matching characters and 1 mismatching character)."
   ]
  },
  {
   "cell_type": "code",
   "execution_count": 16,
   "metadata": {},
   "outputs": [],
   "source": [
    "def score_alignment(seq1:str, seq2:str)->int:\n",
    "    \"\"\"Evaluates the alignment score of two string\n",
    "\n",
    "    Args:\n",
    "        seq1 (str): the first sequence\n",
    "        seq2 (str): the second sequence\n",
    "\n",
    "    Raises:\n",
    "        ValueError: if the length of the two sequence is not equal\n",
    "\n",
    "    Returns:\n",
    "        score (int): the score alignment obtained\n",
    "    \"\"\"\n",
    "    \n",
    "    \n",
    "    if len(seq1) != len(seq2):\n",
    "        raise ValueError('Lengths of the two sequences should match')\n",
    "    \n",
    "    return sum(1 if seq1[i] == seq2[i] else -1 for i in range(len(seq1)))"
   ]
  },
  {
   "cell_type": "markdown",
   "metadata": {},
   "source": [
    "# 4 - FIND BEST ALIGNMENT"
   ]
  },
  {
   "cell_type": "markdown",
   "metadata": {},
   "source": [
    "### Function find_best_alignment \n",
    "takes in a reference string, a query string, and a scoring function <br>\n",
    "returns the best alignment of the query string to the reference string. "
   ]
  },
  {
   "cell_type": "code",
   "execution_count": 17,
   "metadata": {},
   "outputs": [],
   "source": [
    "def find_best_alignment(reference:str, query:str, scoringFunction=score_alignment)->int:\n",
    "    \"\"\"evaluates the best possible alignment for a query sequence into a sequence\n",
    "\n",
    "    Args:\n",
    "        reference (str): the reference sequence \n",
    "        query (str): the sub sequence to be aligned to the reference sequence\n",
    "        scoringFunction (function, optional): the function to be used to determine the score, the function must accept two string as input (in the order reference, subsequence) and must return an integer or float.  Defaults to score_alignment.\n",
    "\n",
    "    Raises:\n",
    "        ValueError: if the reference sequence has a lower or equal length to the query sequence\n",
    "\n",
    "    Returns:\n",
    "        position (int): the starting position in the reference sequence for which the best alignment score was obtained \n",
    "        best score (int): the best alignment score obtained by the sequence  \n",
    "    \"\"\"\n",
    "    \n",
    "    if len(reference) <= len(query):\n",
    "        raise ValueError('reference sequence length should be higher than the query sequence length')\n",
    "    \n",
    "    maximumScore = float('-inf')\n",
    "    \n",
    "    for i in range(len(reference)-len(query), -1, -1):\n",
    "        score = scoringFunction(reference[i:i+len(query)], query)\n",
    "        \n",
    "        if score >= maximumScore:\n",
    "            maximumScore = score\n",
    "            pos = i\n",
    "\n",
    "\n",
    "    return pos, maximumScore"
   ]
  },
  {
   "cell_type": "markdown",
   "metadata": {},
   "source": [
    "# 5 - ALIGN READS"
   ]
  },
  {
   "cell_type": "markdown",
   "metadata": {},
   "source": [
    "### Function: align_reads \n",
    "takes in a reference genome and a list of query strings\n",
    "<br> returns the alignments of the query strings to the reference genome."
   ]
  },
  {
   "cell_type": "code",
   "execution_count": 18,
   "metadata": {},
   "outputs": [],
   "source": [
    "def align_reads(reference:str, queries:list[str]|set[str], alignmentFunction=score_alignment)->list[list[str, str, int, int]]:\n",
    "    \"\"\"Evaluates the best alignment possible\n",
    "\n",
    "    Args:\n",
    "        reference (str): the reference sequence \n",
    "        queries (list[str] | set[str]): the list (or set) of sub sequences to be queried \n",
    "        alignment function (function): the function to be used for alignment evaluation\n",
    "\n",
    "    Returns:\n",
    "        results (list): a list of lists containing the results for each query.\n",
    "            Each query will have the following results:\n",
    "                reference (str): the portion of the reference string that creates the best match\n",
    "                query (str): the sequence that was queried\n",
    "                position (int): the starting position in the reference sequence for the best scoring\n",
    "                score (int): the best score obtained \n",
    "    \"\"\"\n",
    "    alignment = list()\n",
    "    \n",
    "    for data in queries:\n",
    "        pos, score = find_best_alignment(reference, data, scoringFunction=alignmentFunction)\n",
    "        alignment.append([reference[pos:pos+len(data)], data, pos, score])\n",
    "    \n",
    "    return alignment"
   ]
  },
  {
   "cell_type": "markdown",
   "metadata": {},
   "source": [
    "# 6 - PRETTY PRINT "
   ]
  },
  {
   "cell_type": "markdown",
   "metadata": {},
   "source": [
    "prints to screen (or to file) the results of the queries"
   ]
  },
  {
   "cell_type": "code",
   "execution_count": 22,
   "metadata": {},
   "outputs": [],
   "source": [
    "def prettyPrint(results:list[list[str, str, int, int]], sequence:str, outputFilePath:str=None)->None:\n",
    "    if outputFilePath:\n",
    "        outputFilePath = open(outputFilePath, 'w', encoding='UTF-8')\n",
    "    else:\n",
    "        outputFilePath = sys.stdout\n",
    "    \n",
    "    print(f\"Reference sequence : {sequence}\", file=outputFilePath, end='\\n'*2)\n",
    "        \n",
    "    for data in results:\n",
    "        print(f\"Portion of the reference sequence : {data[0]}\", file=outputFilePath)\n",
    "        print(f\"Sequence queried : {data[1]}\", file=outputFilePath)\n",
    "        print(f\"Position for the best alignment in the reference sequence : {data[2]}\", file=outputFilePath)\n",
    "        print(f\"best scoring obtained : {data[3]}\", file=outputFilePath, end='\\n'*3)\n",
    "        \n",
    "    \n",
    "    if outputFilePath != sys.stdout:\n",
    "        outputFilePath.close()"
   ]
  },
  {
   "cell_type": "markdown",
   "metadata": {},
   "source": [
    "# TESTING"
   ]
  },
  {
   "cell_type": "markdown",
   "metadata": {},
   "source": [
    "Test the implementation of each function"
   ]
  },
  {
   "cell_type": "code",
   "execution_count": 20,
   "metadata": {},
   "outputs": [
    {
     "name": "stdout",
     "output_type": "stream",
     "text": [
      "Reference sequence : GATCGTGGCTCTAGA\n",
      "\n",
      "Portion of the reference sequence : GATC\n",
      "Sequence queried : GATC\n",
      "Position for the best alignment in the reference sequence : 0\n",
      "best scoring obtained : 4\n",
      "\n",
      "\n",
      "Portion of the reference sequence : GGCT\n",
      "Sequence queried : GGCT\n",
      "Position for the best alignment in the reference sequence : 6\n",
      "best scoring obtained : 4\n",
      "\n",
      "\n",
      "Portion of the reference sequence : CTAG\n",
      "Sequence queried : CTAG\n",
      "Position for the best alignment in the reference sequence : 10\n",
      "best scoring obtained : 4\n",
      "\n",
      "\n"
     ]
    }
   ],
   "source": [
    "prettyPrint(align_reads(readSequence(path=REFERENCE_SEQUENCE_INPUT_PATH), readQueryData(path=QUERY_DATA_INPUT_PATH)), readSequence())"
   ]
  },
  {
   "cell_type": "code",
   "execution_count": null,
   "metadata": {},
   "outputs": [],
   "source": []
  }
 ],
 "metadata": {
  "kernelspec": {
   "display_name": ".venv",
   "language": "python",
   "name": "python3"
  },
  "language_info": {
   "codemirror_mode": {
    "name": "ipython",
    "version": 3
   },
   "file_extension": ".py",
   "mimetype": "text/x-python",
   "name": "python",
   "nbconvert_exporter": "python",
   "pygments_lexer": "ipython3",
   "version": "3.11.9"
  }
 },
 "nbformat": 4,
 "nbformat_minor": 2
}
