{
 "cells": [
  {
   "cell_type": "markdown",
   "metadata": {},
   "source": [
    "# 1 - MODULES AND CONSTANTS"
   ]
  },
  {
   "cell_type": "markdown",
   "metadata": {},
   "source": [
    "### MODULES AND LIBRARIES"
   ]
  },
  {
   "cell_type": "code",
   "execution_count": 70,
   "metadata": {},
   "outputs": [],
   "source": [
    "import sys"
   ]
  },
  {
   "cell_type": "markdown",
   "metadata": {},
   "source": [
    "### CONSTANTS"
   ]
  },
  {
   "cell_type": "code",
   "execution_count": 71,
   "metadata": {},
   "outputs": [],
   "source": [
    "REFERENCE_SEQUENCE_INPUT_PATH = 'referenceSequence.txt'\n",
    "QUERY_DATA_INPUT_PATH =  'queryData.txt'"
   ]
  },
  {
   "cell_type": "markdown",
   "metadata": {},
   "source": [
    "# 2 - LOAD DATA"
   ]
  },
  {
   "cell_type": "markdown",
   "metadata": {},
   "source": [
    "### Function: checkSequenceValidity\n",
    "checks whether the given string is a plausible sequence (i.e. only contains A,C,G,T,X,-) and is not the empty string"
   ]
  },
  {
   "cell_type": "code",
   "execution_count": 72,
   "metadata": {},
   "outputs": [],
   "source": [
    "def checkSequenceValidity(string:str)->bool:\n",
    "        \"\"\"checks whether a given sequence is valid or not (i.e contains correct characters)\n",
    "\n",
    "        Args:\n",
    "            string (str): the string to be checked\n",
    "\n",
    "        Returns:\n",
    "            result (bool): the result of the comparison\n",
    "        \"\"\"\n",
    "        return all(char in {'A', 'C', 'G', 'T', '-', 'X'} for char in string) and string.strip() != ''"
   ]
  },
  {
   "cell_type": "markdown",
   "metadata": {},
   "source": [
    "### Function: readSequence\n",
    "reads the given sequence to be evaluated and returns it in a string format <br> \n",
    "will raise value error if the sequence contain characters different from A,C,G,T,-,X"
   ]
  },
  {
   "cell_type": "code",
   "execution_count": 73,
   "metadata": {},
   "outputs": [],
   "source": [
    "def readSequence(path:str=REFERENCE_SEQUENCE_INPUT_PATH)->str:\n",
    "    \"\"\"reads the reference sequence\n",
    "\n",
    "    Args:\n",
    "        path (str, optional): the path to the txt file to be read. Defaults to REFERENCE_SEQUENCE_INPUT_PATH.\n",
    "\n",
    "    Raises:\n",
    "        ValueError: if the sequence contains characters difference from A, C, G, T, -, X\n",
    "\n",
    "    Returns:\n",
    "        sequence (str): the sequence read \n",
    "    \"\"\"\n",
    "    \n",
    "    with open(path, 'r', encoding='UTF-8') as fp:\n",
    "        seq =  ''.join(list(map(lambda line:line.strip().upper(), fp)))\n",
    "        \n",
    "    if checkSequenceValidity(seq):\n",
    "        return seq\n",
    "    \n",
    "    raise ValueError('Input format not correct')"
   ]
  },
  {
   "cell_type": "markdown",
   "metadata": {},
   "source": [
    "### Function: readQueryData \n",
    "reads the given query sequences and returns it as a list of string\n",
    "<br> \n",
    "will raise value error if any of the sequence contain characters different from A,C,G,T,-,X"
   ]
  },
  {
   "cell_type": "code",
   "execution_count": 74,
   "metadata": {},
   "outputs": [],
   "source": [
    "def readQueryData(path:str=QUERY_DATA_INPUT_PATH)->list[str]:\n",
    "    \"\"\"reads the query data to be aligned\n",
    "\n",
    "    Args:\n",
    "        path (str, optional): The path to the file containing the data to be aligned. Defaults to QUERY_DATA_INPUT_PATH.\n",
    "\n",
    "    Raises:\n",
    "        ValueError: if any of the sequence contains characters difference from A, C, G, T, -, X\n",
    "\n",
    "    Returns:\n",
    "        sequences (list[str]): the list of sequences to be matched \n",
    "    \"\"\"\n",
    "    \n",
    "    with open(path, 'r', encoding='UTF-8') as fp:\n",
    "        seq =  list(map(lambda line:line.strip().upper(), fp))\n",
    "    \n",
    "    for item in seq:\n",
    "        if not checkSequenceValidity(item):\n",
    "            raise ValueError('Input format not correct')\n",
    "\n",
    "    return seq"
   ]
  },
  {
   "cell_type": "markdown",
   "metadata": {},
   "source": [
    "### Function: readSequenceFromKeyboard\n",
    "reads the given sequence to be evaluated and returns it in a string format <br> \n",
    "if the sequence contains characters different from A,C,G,T,-,X  it will be read again"
   ]
  },
  {
   "cell_type": "code",
   "execution_count": 75,
   "metadata": {},
   "outputs": [],
   "source": [
    "def readSequenceFromKeyboard()->str:\n",
    "    \"\"\"reads the reference sequence from keyboard, continues until a good reference sequence is given\n",
    "\n",
    "    Returns:\n",
    "        reference sequence (str): the read reference sequence\n",
    "    \"\"\"\n",
    "    seq = 'M'\n",
    "    \n",
    "    while not checkSequenceValidity(seq):\n",
    "        seq = input('Insert the reference sequence (It should only contain A,C,G,T,-,X)  :  ').upper()\n",
    "        \n",
    "    return seq"
   ]
  },
  {
   "cell_type": "markdown",
   "metadata": {},
   "source": [
    "### Function: readQueryDataFromKeyboard\n",
    "reads the given query sequences from keyboard and returns it as a list of string<br>\n",
    "will continue with the input until the sequence given contains characters different from A,C,G,T,-,X<br>\n",
    "it can read both one sequence at a time ex. ACTG or a list of sequence ACTG,ATTA,AGGA"
   ]
  },
  {
   "cell_type": "code",
   "execution_count": 76,
   "metadata": {},
   "outputs": [],
   "source": [
    "def readQueryDataFromKeyboard()->list[str]:\n",
    "    \"\"\"reads the list of queries via keyboard input, moreover, the input can occur both as a single string (for a single query)\n",
    "    or as a comma separated list of sequences\n",
    "\n",
    "    Returns:\n",
    "        querySequence (list[str]): the list of query sequence to be used\n",
    "    \"\"\"\n",
    "    \n",
    "    seq = []\n",
    "    keepOnInputting = True\n",
    "    \n",
    "    while keepOnInputting:\n",
    "        newSeq=input('Insert the new query sequence, it should only contain (A,C,T,G,-,X) \\n' +\n",
    "                    'you can insert both a sequence for single sequence input or a list of sequence comma separated : ').strip().upper()\n",
    "        \n",
    "        newSeq = newSeq.split(',') if ',' in newSeq else [newSeq]\n",
    "        for item in newSeq:\n",
    "            if checkSequenceValidity(item):\n",
    "                seq.append(item)\n",
    "            else:\n",
    "                keepOnInputting = False\n",
    "                break\n",
    "    return seq"
   ]
  },
  {
   "cell_type": "markdown",
   "metadata": {},
   "source": [
    "# 3 - SCORE ALIGNMENT"
   ]
  },
  {
   "cell_type": "markdown",
   "metadata": {},
   "source": [
    "### Function: score_alignment \n",
    "takes in two strings and returns the alignment score of the two strings. <br>\n",
    "The alignment score is calculated by summing the number of matching characters and subtracting the number of\n",
    "mismatching characters. <br>\n",
    "For example, the alignment of \"ACGGT\" and \"ACGGC\" would have a score of 3 (4 matching characters and 1 mismatching character)."
   ]
  },
  {
   "cell_type": "code",
   "execution_count": 77,
   "metadata": {},
   "outputs": [],
   "source": [
    "def score_alignment(seq1:str, seq2:str)->int:\n",
    "    \"\"\"Evaluates the alignment score of two string\n",
    "\n",
    "    Args:\n",
    "        seq1 (str): the first sequence\n",
    "        seq2 (str): the second sequence\n",
    "\n",
    "    Raises:\n",
    "        ValueError: if the length of the two sequence is not equal\n",
    "\n",
    "    Returns:\n",
    "        score (int): the score alignment obtained\n",
    "    \"\"\"\n",
    "    \n",
    "    \n",
    "    if len(seq1) != len(seq2) or len(seq1) < 1 or len(seq2) < 1:\n",
    "        raise ValueError('Lengths of the two sequences should match and there should be at least an item in each sequence')\n",
    "    \n",
    "    return sum(1 if seq1[i] == seq2[i] and seq1[i] not in {'X', '-'} else -1 for i in range(len(seq1)))"
   ]
  },
  {
   "cell_type": "markdown",
   "metadata": {},
   "source": [
    "# 4 - FIND BEST ALIGNMENT"
   ]
  },
  {
   "cell_type": "markdown",
   "metadata": {},
   "source": [
    "### Function find_best_alignment \n",
    "takes in a reference string, a query string, and a scoring function <br>\n",
    "returns the best alignment of the query string to the reference string. "
   ]
  },
  {
   "cell_type": "code",
   "execution_count": 78,
   "metadata": {},
   "outputs": [],
   "source": [
    "def find_best_alignment(reference:str, query:str, scoringFunction=score_alignment)->list[int, int]:\n",
    "    \"\"\"evaluates the best possible alignment for a query sequence into a sequence\n",
    "\n",
    "    Args:\n",
    "        reference (str): the reference sequence \n",
    "        query (str): the sub sequence to be aligned to the reference sequence\n",
    "        scoringFunction (function, optional): the function to be used to determine the score, the function must accept two string \n",
    "            as input (in the order reference, subsequence) and must return an integer or float. Defaults to score_alignment.\n",
    "\n",
    "    Raises:\n",
    "        ValueError: if the reference sequence has a lower or equal length to the query sequence\n",
    "\n",
    "    Returns:\n",
    "        position (int): the starting position in the reference sequence for which the best alignment score was obtained \n",
    "        best score (int): the best alignment score obtained by the sequence  \n",
    "    \"\"\"\n",
    "    \n",
    "    if len(reference) <= len(query):\n",
    "        raise ValueError('reference sequence length should be higher than the query sequence length')\n",
    "    \n",
    "    maximumScore = float('-inf')\n",
    "    \n",
    "    for i in range(len(reference)-len(query), -1, -1):\n",
    "        if (score:=scoringFunction(reference[i:i+len(query)], query)) >= maximumScore:\n",
    "            maximumScore = score\n",
    "            pos = i\n",
    "\n",
    "    return pos, maximumScore"
   ]
  },
  {
   "cell_type": "markdown",
   "metadata": {},
   "source": [
    "# 5 - ALIGN READS"
   ]
  },
  {
   "cell_type": "markdown",
   "metadata": {},
   "source": [
    "### Function: align_reads \n",
    "takes in a reference genome and a list of query strings\n",
    "<br> returns the alignments of the query strings to the reference genome."
   ]
  },
  {
   "cell_type": "code",
   "execution_count": 79,
   "metadata": {},
   "outputs": [],
   "source": [
    "def align_reads(reference:str, queries:list[str]|set[str], alignmentFunction=score_alignment) -> list[list[str, str, int, int]]:\n",
    "    \"\"\"Evaluates the best alignment possible for a sequence of queries with respect to a reference sequence\n",
    "\n",
    "    Args:\n",
    "        reference (str): the reference sequence \n",
    "        queries (list[str] | set[str]): the list (or set) of sub sequences to be queried \n",
    "        alignment function (function): the function to be used for alignment evaluation\n",
    "\n",
    "    Returns:\n",
    "        results (list): a list of lists containing the results for each query.\n",
    "            Each query will have the following results:\n",
    "                reference (str): the portion of the reference string that creates the best match\n",
    "                query (str): the sequence that was queried\n",
    "                position (int): the starting position in the reference sequence for the best scoring\n",
    "                score (int): the best score obtained \n",
    "    \"\"\"\n",
    "    alignment = []\n",
    "\n",
    "    for data in queries:\n",
    "        pos, score = find_best_alignment(reference, data, scoringFunction=alignmentFunction)\n",
    "        alignment.append([reference[pos:pos+len(data)], data, pos, score])\n",
    "\n",
    "    return alignment"
   ]
  },
  {
   "cell_type": "markdown",
   "metadata": {},
   "source": [
    "# 6 - PRETTY PRINT "
   ]
  },
  {
   "cell_type": "markdown",
   "metadata": {},
   "source": [
    "prints to screen (or to file) the results of the queries"
   ]
  },
  {
   "cell_type": "code",
   "execution_count": 80,
   "metadata": {},
   "outputs": [],
   "source": [
    "def prettyPrint(results:list[list[str, str, int, int]], sequence:str, outputFilePath:None|bool|str=True)->list[list[str, str, int, int]]:\n",
    "    \"\"\"performs the print of the align_reads function in a prettier way\n",
    "\n",
    "    Args:\n",
    "        results (list[list[str, str, int, int]]): the result of the align_reads function\n",
    "        sequence (str): the original reference sequence\n",
    "        results (list[list[str, str, int, int]]): the result of the align_reads function\n",
    "            outputFile (None|bool|str): Controls where the results are going to be outputted, if a non empty string is given it's interpreted as\n",
    "                the path to a file where to print the data. If a True boolean is given, the prints occurs on screen (stdout). \n",
    "                If anything else is given, no print occurs. Defaults to True.\n",
    "                \n",
    "    Returns: \n",
    "        The results of the align_read function (i.e. the parameter results)\n",
    "    \"\"\"\n",
    "    \n",
    "    if isinstance(outputFilePath, bool) and outputFilePath:\n",
    "        outputFilePath = sys.stdout\n",
    "    elif isinstance(outputFilePath, str) and outputFilePath.strip() != '':\n",
    "        outputFilePath = open(outputFilePath, 'w', encoding='UTF-8')\n",
    "    else:\n",
    "        return\n",
    "    \n",
    "    print(f\"Reference sequence : {sequence}\", file=outputFilePath, end='\\n'*2)\n",
    "        \n",
    "    for data in results:\n",
    "        print(f\"Portion of the reference sequence : {data[0]}\", file=outputFilePath)\n",
    "        print(f\"Sequence queried : {data[1]}\", file=outputFilePath)\n",
    "        print(f\"Position for the best alignment in the reference sequence : {data[2]}\", file=outputFilePath)\n",
    "        print(f\"best scoring obtained : {data[3]}\", file=outputFilePath, end='\\n'*3)\n",
    "        \n",
    "    \n",
    "    if outputFilePath != sys.stdout:\n",
    "        outputFilePath.close()\n",
    "        \n",
    "    return results"
   ]
  },
  {
   "cell_type": "markdown",
   "metadata": {},
   "source": [
    "# TESTING"
   ]
  },
  {
   "cell_type": "markdown",
   "metadata": {},
   "source": [
    "Test the implementation of each function"
   ]
  },
  {
   "cell_type": "code",
   "execution_count": 81,
   "metadata": {},
   "outputs": [
    {
     "name": "stdout",
     "output_type": "stream",
     "text": [
      "Reference sequence : GATCGTGGCTCTAGA\n",
      "\n",
      "Portion of the reference sequence : GATC\n",
      "Sequence queried : GATC\n",
      "Position for the best alignment in the reference sequence : 0\n",
      "best scoring obtained : 4\n",
      "\n",
      "\n",
      "Portion of the reference sequence : GGCT\n",
      "Sequence queried : GGCT\n",
      "Position for the best alignment in the reference sequence : 6\n",
      "best scoring obtained : 4\n",
      "\n",
      "\n",
      "Portion of the reference sequence : CTAG\n",
      "Sequence queried : CTAG\n",
      "Position for the best alignment in the reference sequence : 10\n",
      "best scoring obtained : 4\n",
      "\n",
      "\n"
     ]
    }
   ],
   "source": [
    "seq = readSequence(path=REFERENCE_SEQUENCE_INPUT_PATH)\n",
    "\n",
    "ris = prettyPrint(align_reads(seq, readQueryData(path=QUERY_DATA_INPUT_PATH)), seq, outputFilePath=True)"
   ]
  },
  {
   "cell_type": "code",
   "execution_count": 82,
   "metadata": {},
   "outputs": [
    {
     "name": "stdout",
     "output_type": "stream",
     "text": [
      "Reference sequence : ACTG\n",
      "\n",
      "Portion of the reference sequence : AC\n",
      "Sequence queried : AC\n",
      "Position for the best alignment in the reference sequence : 0\n",
      "best scoring obtained : 2\n",
      "\n",
      "\n",
      "Portion of the reference sequence : TG\n",
      "Sequence queried : TG\n",
      "Position for the best alignment in the reference sequence : 2\n",
      "best scoring obtained : 2\n",
      "\n",
      "\n",
      "Portion of the reference sequence : TG\n",
      "Sequence queried : T-\n",
      "Position for the best alignment in the reference sequence : 2\n",
      "best scoring obtained : 0\n",
      "\n",
      "\n",
      "Portion of the reference sequence : ACT\n",
      "Sequence queried : AX-\n",
      "Position for the best alignment in the reference sequence : 0\n",
      "best scoring obtained : -1\n",
      "\n",
      "\n"
     ]
    }
   ],
   "source": [
    "seq = readSequenceFromKeyboard()\n",
    "\n",
    "ris = prettyPrint(align_reads(seq, readQueryDataFromKeyboard()), seq)"
   ]
  }
 ],
 "metadata": {
  "kernelspec": {
   "display_name": ".venv",
   "language": "python",
   "name": "python3"
  },
  "language_info": {
   "codemirror_mode": {
    "name": "ipython",
    "version": 3
   },
   "file_extension": ".py",
   "mimetype": "text/x-python",
   "name": "python",
   "nbconvert_exporter": "python",
   "pygments_lexer": "ipython3",
   "version": "3.11.9"
  }
 },
 "nbformat": 4,
 "nbformat_minor": 2
}
